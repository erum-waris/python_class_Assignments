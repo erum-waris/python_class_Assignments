{
 "cells": [
  {
   "cell_type": "markdown",
   "metadata": {},
   "source": [
    "Write a program in which take input from user name , roll no, marks of subjects.Calculate their Grade and percentage."
   ]
  },
  {
   "cell_type": "code",
   "execution_count": 36,
   "metadata": {},
   "outputs": [
    {
     "name": "stdout",
     "output_type": "stream",
     "text": [
      "Invalid name! Please enter only alphabets.\n",
      "\n",
      "----- Report Card -----\n",
      "Name: Erum\n",
      "Roll Number: 1234\n",
      "Total marks obtained: 380 out of 600\n",
      "Percentage: 63.33%\n",
      "Your grade is: B\n",
      "\n",
      "----- Report Card -----\n",
      "Name: Affan\n",
      "Roll Number: 4567\n",
      "Total marks obtained: 376 out of 600\n",
      "Percentage: 62.67%\n",
      "Your grade is: B\n",
      "\n",
      "----- Report Card -----\n",
      "Name: Abdul Raheem\n",
      "Roll Number: 8970\n",
      "Total marks obtained: 455 out of 600\n",
      "Percentage: 75.83%\n",
      "Your grade is: A\n",
      "Have a Good Day. bye bye!\n"
     ]
    }
   ],
   "source": [
    "def CalculateGrade(percentage):\n",
    "    if percentage >= 80:\n",
    "        return 'A+'\n",
    "    elif percentage >= 70:\n",
    "        return 'A'\n",
    "    elif percentage >= 60:\n",
    "        return 'B'\n",
    "    elif percentage >= 50:\n",
    "        return 'C'\n",
    "    elif percentage >= 40:\n",
    "        return 'D'\n",
    "    else:\n",
    "        return 'E'\n",
    "\n",
    "def main():\n",
    "    # List of subjects\n",
    "    subjects = [\"HTML\", \"CSS\", \"JAVASCRIPT\", \"TYPESCRIPT\", \"NEXT JS\", \"PYTHON\"]\n",
    "\n",
    "    while True:\n",
    "        #  input for student name (only alphabets allowed)\n",
    "        while True:\n",
    "            StudentName = input(\"Enter your name: \")\n",
    "            if StudentName.replace(\" \", \"\").isalpha():  # replace Allows spaces in the name\n",
    "                break\n",
    "            else:\n",
    "                print(\"Invalid name! Please enter only alphabets.\")\n",
    "\n",
    "        #  input for roll number\n",
    "        StudentRollNo = input(\"Enter your roll number: \")\n",
    "\n",
    "        #  marks for each subject\n",
    "        obtained_marks = 0\n",
    "        for subject in subjects:\n",
    "            while True:\n",
    "                marks = input(f\"Enter marks for {subject} (out of 100): \")\n",
    "                if marks.isdigit():  \n",
    "                    marks = int(marks)\n",
    "                    if 0 <= marks <= 100:\n",
    "                        break\n",
    "                    else:\n",
    "                        print(\"Invalid marks! Please enter a number between 0 and 100.\")\n",
    "                else:\n",
    "                    print(\"Invalid input! Please enter a valid number.\")\n",
    "            obtained_marks += marks\n",
    "\n",
    "        # Calculate percentage\n",
    "        percentage = (obtained_marks / (len(subjects) * 100)) * 100\n",
    "\n",
    "        # Display results\n",
    "        print(\"\\n----- Report Card -----\")\n",
    "        print(f\"Name: {StudentName}\")\n",
    "        print(f\"Roll Number: {StudentRollNo}\")\n",
    "        print(f\"Total marks obtained: {obtained_marks} out of {len(subjects) * 100}\")\n",
    "        print(f\"Percentage: {percentage:.2f}%\")\n",
    "        print(\"Your grade is:\", CalculateGrade(percentage))\n",
    "\n",
    "        # Ask if the user wants to continue\n",
    "        choice = input(\"\\nDo you want to continue for more Students Results? (Y/N): \").lower()\n",
    "        if choice != 'y':\n",
    "            print(\"Have a Good Day. bye bye!\")\n",
    "            break\n",
    "\n",
    "if __name__ == \"__main__\":\n",
    "    main()"
   ]
  }
 ],
 "metadata": {
  "kernelspec": {
   "display_name": "Python 3",
   "language": "python",
   "name": "python3"
  },
  "language_info": {
   "codemirror_mode": {
    "name": "ipython",
    "version": 3
   },
   "file_extension": ".py",
   "mimetype": "text/x-python",
   "name": "python",
   "nbconvert_exporter": "python",
   "pygments_lexer": "ipython3",
   "version": "3.11.9"
  }
 },
 "nbformat": 4,
 "nbformat_minor": 2
}
