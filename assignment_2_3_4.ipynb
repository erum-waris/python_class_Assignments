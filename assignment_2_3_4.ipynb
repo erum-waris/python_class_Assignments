{
 "cells": [
  {
   "cell_type": "markdown",
   "metadata": {},
   "source": [
    "Assignment 2: Pyramid Pattern\n",
    "Write a Python program to draw a pyramid of \"*\" using loops and string repetition."
   ]
  },
  {
   "cell_type": "code",
   "execution_count": 16,
   "metadata": {},
   "outputs": [
    {
     "name": "stdout",
     "output_type": "stream",
     "text": [
      "         * \n",
      "        * * \n",
      "       * * * \n",
      "      * * * * \n",
      "     * * * * * \n",
      "    * * * * * * \n",
      "   * * * * * * * \n",
      "  * * * * * * * * \n",
      " * * * * * * * * * \n",
      "* * * * * * * * * * \n"
     ]
    }
   ],
   "source": [
    "# input from user for how many rows user needs in number??\n",
    "\n",
    "rows = int(input(\"Enter a number for rows:\"))\n",
    "\n",
    "#rows = 10 # for testing purpose\n",
    "\n",
    "for num in range(0, rows):\n",
    "    #for each row, print the spaces first\n",
    "    for space in range(0, rows - num - 1):\n",
    "        print(\" \", end=\"\")\n",
    "    #print the stars in the row\n",
    "    for star in range(0, num + 1):\n",
    "        print(\"* \", end=\"\")\n",
    "    print()"
   ]
  },
  {
   "cell_type": "markdown",
   "metadata": {},
   "source": [
    "Assignment 3: Diamond Pattern\n",
    "Write a Python program to draw a diamond of \"*\" using loops and string repetition."
   ]
  },
  {
   "cell_type": "code",
   "execution_count": null,
   "metadata": {},
   "outputs": [
    {
     "name": "stdout",
     "output_type": "stream",
     "text": [
      "           * \n",
      "          * * \n",
      "         * * * \n",
      "        * * * * \n",
      "       * * * * * \n",
      "      * * * * * * \n",
      "     * * * * * * * \n",
      "    * * * * * * * * \n",
      "   * * * * * * * * * \n",
      "  * * * * * * * * * * \n",
      " * * * * * * * * * * * \n",
      "* * * * * * * * * * * * \n",
      " * * * * * * * * * * * \n",
      "  * * * * * * * * * * \n",
      "   * * * * * * * * * \n",
      "    * * * * * * * * \n",
      "     * * * * * * * \n",
      "      * * * * * * \n",
      "       * * * * * \n",
      "        * * * * \n",
      "         * * * \n",
      "          * * \n",
      "           * \n",
      "            \n"
     ]
    }
   ],
   "source": [
    "\n",
    "# rows = int(input(\"Enter a number for rows:\"))\n",
    "\n",
    "rows = 12\n",
    "for num in range(0, rows):\n",
    "    #for each row, print the spaces first\n",
    "    for space in range(0, rows - num - 1):\n",
    "        print(\" \", end=\"\")\n",
    "    #print the stars in the row\n",
    "    for star in range(0, num + 1):\n",
    "        print(\"* \", end=\"\")\n",
    "    print()\n",
    "\n",
    "#loop will reverse for the next half of the pattern of diamond\n",
    "\n",
    "for num in range(0, rows):\n",
    "    #for each row, print the spaces first\n",
    "    for space in range(0, num + 1):\n",
    "        print(\" \", end=\"\")\n",
    "    #print the stars in the row\n",
    "    for star in range(0, rows - num - 1):\n",
    "        print(\"* \", end=\"\")\n",
    "    print()    \n"
   ]
  },
  {
   "cell_type": "markdown",
   "metadata": {},
   "source": [
    "Assignment 4: Deductive Logic Game - Guess the Secret Number\n",
    "Write a Python program that implements a deductive logic game where the player must guess a secret three-digit number based on hints.\n",
    "\n",
    "Game Rules:\n",
    "The program generate a random three-digit secret number (e.g., \"631\").\n",
    "The player has 10 attempts to guess the secret number.\n",
    "After each guess, the program provides feedback:\n",
    "“Correct” or 👌 → A correct digit in the correct place.\n",
    "“Ok” or 👍 → A correct digit in the wrong place.\n",
    "“Wrong” or ❌ → No correct digits.\n",
    "The game ends if the player guesses correctly or exhausts all attempts."
   ]
  },
  {
   "cell_type": "code",
   "execution_count": 2,
   "metadata": {},
   "outputs": [
    {
     "name": "stdout",
     "output_type": "stream",
     "text": [
      "924\n",
      "Welcome to the Guessing Game!\n",
      "Guess a 3-digit number. You'll get feedback for each digit:\n",
      "✅ = Correct digit in correct position\n",
      "🔄 = Correct digit but wrong position\n",
      "❌ = Wrong digit\n",
      "❌ 👌 ❌\n",
      "🎉 👌👌👌 or Correct Correct Correct or You Got IT 924 You guessed it in 2 attempts!\n"
     ]
    }
   ],
   "source": [
    "import random\n",
    "\n",
    "# Generate a random 3-digit secret number\n",
    "secret_number = str(random.randint(100, 999))\n",
    "print(secret_number)  # For testing purposes\n",
    "print(\"Welcome to the Guessing Game!\")\n",
    "print(\"Guess a 3-digit number. You'll get feedback for each digit:\")\n",
    "print(\"✅ = Correct digit in correct position\")\n",
    "print(\"🔄 = Correct digit but wrong position\")\n",
    "print(\"❌ = Wrong digit\")\n",
    "\n",
    "attempts = 0\n",
    "\n",
    "while True:\n",
    "    guess = input(\"\\nEnter your guess (3 digits): \")\n",
    "    \n",
    "    # Validate input\n",
    "    if len(guess) != 3 or not guess.isdigit():\n",
    "        print(\"Please enter exactly 3 digits!\")\n",
    "        continue\n",
    "    \n",
    "    attempts += 1\n",
    "    \n",
    "    # Check if guess is correct\n",
    "    if guess == secret_number:\n",
    "        print(f\"🎉 👌👌👌 or Correct Correct Correct or You Got IT {secret_number} You guessed it in {attempts} attempts!\")\n",
    "        break\n",
    "    \n",
    "    # Give feedback for each digit\n",
    "    feedback = []\n",
    "    for i in range(3):\n",
    "        if guess[i] == secret_number[i]:\n",
    "            feedback.append(\"👌\")  # Correct position\n",
    "        elif guess[i] in secret_number:\n",
    "            feedback.append(\"👍\")  # Correct digit, wrong position\n",
    "        else:\n",
    "            feedback.append(\"❌\")  # Wrong digit\n",
    "    \n",
    "    print(\" \".join(feedback))"
   ]
  }
 ],
 "metadata": {
  "kernelspec": {
   "display_name": "Python 3",
   "language": "python",
   "name": "python3"
  },
  "language_info": {
   "codemirror_mode": {
    "name": "ipython",
    "version": 3
   },
   "file_extension": ".py",
   "mimetype": "text/x-python",
   "name": "python",
   "nbconvert_exporter": "python",
   "pygments_lexer": "ipython3",
   "version": "3.11.9"
  }
 },
 "nbformat": 4,
 "nbformat_minor": 2
}
